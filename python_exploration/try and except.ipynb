{
 "cells": [
  {
   "cell_type": "code",
   "execution_count": 12,
   "id": "fd562769",
   "metadata": {},
   "outputs": [],
   "source": [
    "import spotipy\n",
    "import spotipy.util as util\n",
    "from config import client_id, client_secret\n",
    "import json\n",
    "\n",
    "import pandas as pd\n",
    "from sklearn.preprocessing import LabelEncoder\n",
    "from sklearn.model_selection import train_test_split\n",
    "from sklearn.linear_model import LogisticRegression\n",
    "classifier = LogisticRegression(solver='lbfgs', random_state=1)\n",
    "label_encoder = LabelEncoder()\n",
    "\n",
    "import pandas as pd\n",
    "\n",
    "redirect_uri = 'http://localhost:7777/callback'\n",
    "scope = 'user-top-read'\n",
    "\n",
    "\n",
    "token = util.prompt_for_user_token(\n",
    "                                   scope=scope, \n",
    "                                   client_id=client_id,   \n",
    "                                   client_secret=client_secret,     \n",
    "                                   redirect_uri=redirect_uri)"
   ]
  },
  {
   "cell_type": "code",
   "execution_count": 3,
   "id": "00dcbd80",
   "metadata": {},
   "outputs": [],
   "source": [
    "sp = spotipy.Spotify(auth=token)"
   ]
  },
  {
   "cell_type": "code",
   "execution_count": 4,
   "id": "35b9ab56",
   "metadata": {},
   "outputs": [],
   "source": [
    "top_tracks = sp.current_user_top_tracks(limit=50,time_range='long_term')"
   ]
  },
  {
   "cell_type": "code",
   "execution_count": 5,
   "id": "ac9ee0f8",
   "metadata": {},
   "outputs": [],
   "source": [
    "output_dict = [x for x in top_tracks[\"items\"] if x['artists'][0]['name'] == 'Taylor Swift' and x['album']['album_type'] == 'ALBUM']\n"
   ]
  },
  {
   "cell_type": "code",
   "execution_count": 6,
   "id": "8a94a5bf",
   "metadata": {},
   "outputs": [],
   "source": [
    "result = output_dict[0][\"album\"]['name']\n"
   ]
  },
  {
   "cell_type": "code",
   "execution_count": 6,
   "id": "55b92267",
   "metadata": {},
   "outputs": [],
   "source": [
    "#setting empty list for all the song features\n",
    "dance = []\n",
    "energy = []\n",
    "key = []\n",
    "loud = []\n",
    "mode = []\n",
    "speech = []\n",
    "acoustic = []\n",
    "instrument = []\n",
    "liveness = []\n",
    "valence = []\n",
    "tempo = []"
   ]
  },
  {
   "cell_type": "code",
   "execution_count": 18,
   "id": "1e12b3e4",
   "metadata": {},
   "outputs": [
    {
     "data": {
      "text/plain": [
       "'reputation'"
      ]
     },
     "execution_count": 18,
     "metadata": {},
     "output_type": "execute_result"
    }
   ],
   "source": [
    "try:\n",
    "    output_dict = [x for x in top_tracks[\"items\"] if x['artists'][0]['name'] == 'Taylor Swift' and x['album']['album_type'] == 'ALBUM']\n",
    "    \n",
    "    result = output_dict[0][\"album\"]['name']\n",
    "\n",
    "except:\n",
    "    df = pd.read_csv(\"all_taylor_features.csv\")\n",
    "    \n",
    "    df = df.drop('Unnamed: 0',axis=1)\n",
    "    \n",
    "    df[\"album_outcome\"] = label_encoder.fit_transform(df[\"album\"])\n",
    "    \n",
    "    y = df[\"album_outcome\"]\n",
    "    x = df.drop(columns=[\"album\",\"album_outcome\"])\n",
    "    \n",
    "    classifier.fit(x, y)\n",
    "    \n",
    "    log_top_tracks = sp.current_user_top_tracks(limit=5,time_range='medium_term')\n",
    "    \n",
    "    top_songs =[]\n",
    "    for idx, item in enumerate(top_tracks['items']):\n",
    "        top_songs.append(item['id'])\n",
    "        \n",
    "    features = []\n",
    "    for id in top_songs:\n",
    "        features.append(sp.audio_features(id))\n",
    "        \n",
    "    song_count = len(top_songs)\n",
    "\n",
    "    dance = []\n",
    "    energy = []\n",
    "    key = []\n",
    "    loud = []\n",
    "    mode = []\n",
    "    speech = []\n",
    "    acoustic = []\n",
    "    instrument = []\n",
    "    liveness = []\n",
    "    valence = []\n",
    "    tempo = []\n",
    "        \n",
    "    for i in range(song_count):\n",
    "        dance.append(features[i][0][\"danceability\"])\n",
    "        energy.append(features[i][0][\"energy\"])\n",
    "        key.append(features[i][0][\"key\"])\n",
    "        loud.append(features[i][0][\"loudness\"])\n",
    "        mode.append(features[i][0][\"mode\"])\n",
    "        speech.append(features[i][0][\"speechiness\"])\n",
    "        acoustic.append(features[i][0][\"acousticness\"])\n",
    "        instrument.append(features[i][0][\"instrumentalness\"])\n",
    "        liveness.append(features[i][0][\"liveness\"])\n",
    "        valence.append(features[i][0][\"valence\"])\n",
    "        tempo.append(features[i][0][\"tempo\"])\n",
    "        \n",
    "    song_dict = dict(danceability=dance, \n",
    "                 energy =energy,\n",
    "                 key =key,\n",
    "                 loudness=loud,\n",
    "                 mode=mode,\n",
    "                 speechiness=speech,\n",
    "                 acousticness=acoustic,\n",
    "                 instrumentalness=instrument,\n",
    "                 liveness=liveness,\n",
    "                 valence=valence,\n",
    "                 tempo=tempo)\n",
    "    \n",
    "    song_df = pd.DataFrame(song_dict)\n",
    "    \n",
    "    x_test = song_df\n",
    "    y_pred = classifier.predict(x_test)\n",
    "    album_pred = label_encoder.inverse_transform(y_pred)\n",
    "    result = album_pred[0]\n",
    "\n",
    "\n",
    "\n",
    "result"
   ]
  },
  {
   "cell_type": "code",
   "execution_count": 16,
   "id": "00d8ecee",
   "metadata": {},
   "outputs": [
    {
     "name": "stderr",
     "output_type": "stream",
     "text": [
      "/Users/kellyrice/opt/anaconda3/envs/PythonData/lib/python3.7/site-packages/sklearn/linear_model/_logistic.py:818: ConvergenceWarning: lbfgs failed to converge (status=1):\n",
      "STOP: TOTAL NO. of ITERATIONS REACHED LIMIT.\n",
      "\n",
      "Increase the number of iterations (max_iter) or scale the data as shown in:\n",
      "    https://scikit-learn.org/stable/modules/preprocessing.html\n",
      "Please also refer to the documentation for alternative solver options:\n",
      "    https://scikit-learn.org/stable/modules/linear_model.html#logistic-regression\n",
      "  extra_warning_msg=_LOGISTIC_SOLVER_CONVERGENCE_MSG,\n"
     ]
    },
    {
     "data": {
      "text/plain": [
       "'reputation'"
      ]
     },
     "execution_count": 16,
     "metadata": {},
     "output_type": "execute_result"
    }
   ],
   "source": [
    "df = pd.read_csv(\"all_taylor_features.csv\")\n",
    "    \n",
    "df = df.drop('Unnamed: 0',axis=1)\n",
    "    \n",
    "df[\"album_outcome\"] = label_encoder.fit_transform(df[\"album\"])\n",
    "    \n",
    "y = df[\"album_outcome\"]\n",
    "x = df.drop(columns=[\"album\",\"album_outcome\"])\n",
    "    \n",
    "classifier.fit(x, y)\n",
    "    \n",
    "log_top_tracks = sp.current_user_top_tracks(limit=5,time_range='medium_term')\n",
    "    \n",
    "top_songs =[]\n",
    "for idx, item in enumerate(top_tracks['items']):\n",
    "    top_songs.append(item['id'])\n",
    "        \n",
    "features = []\n",
    "for id in top_songs:\n",
    "    features.append(sp.audio_features(id))\n",
    "    \n",
    "song_count = len(top_songs)\n",
    "\n",
    "dance = []\n",
    "energy = []\n",
    "key = []\n",
    "loud = []\n",
    "mode = []\n",
    "speech = []\n",
    "acoustic = []\n",
    "instrument = []\n",
    "liveness = []\n",
    "valence = []\n",
    "tempo = []\n",
    "        \n",
    "for i in range(song_count):\n",
    "    dance.append(features[i][0][\"danceability\"])\n",
    "    energy.append(features[i][0][\"energy\"])\n",
    "    key.append(features[i][0][\"key\"])\n",
    "    loud.append(features[i][0][\"loudness\"])\n",
    "    mode.append(features[i][0][\"mode\"])\n",
    "    speech.append(features[i][0][\"speechiness\"])\n",
    "    acoustic.append(features[i][0][\"acousticness\"])\n",
    "    instrument.append(features[i][0][\"instrumentalness\"])\n",
    "    liveness.append(features[i][0][\"liveness\"])\n",
    "    valence.append(features[i][0][\"valence\"])\n",
    "    tempo.append(features[i][0][\"tempo\"])\n",
    "        \n",
    "song_dict = dict(danceability=dance, \n",
    "                 energy =energy,\n",
    "                 key =key,\n",
    "                 loudness=loud,\n",
    "                 mode=mode,\n",
    "                 speechiness=speech,\n",
    "                 acousticness=acoustic,\n",
    "                 instrumentalness=instrument,\n",
    "                 liveness=liveness,\n",
    "                 valence=valence,\n",
    "                 tempo=tempo)\n",
    "    \n",
    "song_df = pd.DataFrame(song_dict)\n",
    "    \n",
    "x_test = song_df\n",
    "y_pred = classifier.predict(x_test)\n",
    "album_pred = label_encoder.inverse_transform(y_pred)\n",
    "    \n",
    "result = album_pred[0]\n",
    "\n",
    "result"
   ]
  },
  {
   "cell_type": "code",
   "execution_count": 14,
   "id": "d20c03c1",
   "metadata": {},
   "outputs": [
    {
     "data": {
      "text/plain": [
       "'reputation'"
      ]
     },
     "execution_count": 14,
     "metadata": {},
     "output_type": "execute_result"
    }
   ],
   "source": [
    "result"
   ]
  },
  {
   "cell_type": "code",
   "execution_count": null,
   "id": "f04b9000",
   "metadata": {},
   "outputs": [],
   "source": []
  }
 ],
 "metadata": {
  "kernelspec": {
   "display_name": "PythonData",
   "language": "python",
   "name": "pythondata"
  },
  "language_info": {
   "codemirror_mode": {
    "name": "ipython",
    "version": 3
   },
   "file_extension": ".py",
   "mimetype": "text/x-python",
   "name": "python",
   "nbconvert_exporter": "python",
   "pygments_lexer": "ipython3",
   "version": "3.7.13"
  }
 },
 "nbformat": 4,
 "nbformat_minor": 5
}
