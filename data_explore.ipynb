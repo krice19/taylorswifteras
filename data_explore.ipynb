{
 "cells": [
  {
   "cell_type": "code",
   "execution_count": 1,
   "metadata": {},
   "outputs": [],
   "source": [
    "import spotipy\n",
    "import spotipy.util as util\n",
    "from config import client_id, client_secret, username"
   ]
  },
  {
   "cell_type": "code",
   "execution_count": 71,
   "metadata": {},
   "outputs": [],
   "source": [
    "sp = spotipy.Spotify()\n"
   ]
  },
  {
   "cell_type": "code",
   "execution_count": null,
   "metadata": {},
   "outputs": [],
   "source": []
  },
  {
   "cell_type": "code",
   "execution_count": 2,
   "metadata": {},
   "outputs": [],
   "source": [
    "redirect_uri = 'http://localhost:7777/callback'\n",
    "scope = 'user-read-recently-played'\n",
    "\n",
    "token = util.prompt_for_user_token(username=username, \n",
    "                                   scope=scope, \n",
    "                                   client_id=client_id,   \n",
    "                                   client_secret=client_secret,     \n",
    "                                   redirect_uri=redirect_uri)"
   ]
  },
  {
   "cell_type": "code",
   "execution_count": 3,
   "metadata": {},
   "outputs": [
    {
     "data": {
      "text/plain": [
       "'BQBG3EXqrf1MFPzzFu2aObwiDLAd-KPV2o9BjIH9CAsYjOKEjimgXsKHXshjdejcb4LkENuBHM8lEuEeaxhwzEdMbgFqTRMCXM-DDYpMeP7789a1Jpsfw0H8lFoAaaZ_1_9WA_fqHlAiMlfIeE8aJ5bugfmK9GHvnMniHrE422VVpTVGXEjZGA3-fw'"
      ]
     },
     "execution_count": 3,
     "metadata": {},
     "output_type": "execute_result"
    }
   ],
   "source": [
    "token"
   ]
  },
  {
   "cell_type": "code",
   "execution_count": 4,
   "metadata": {},
   "outputs": [],
   "source": [
    "sp = spotipy.Spotify(auth=token)"
   ]
  },
  {
   "cell_type": "code",
   "execution_count": 75,
   "metadata": {},
   "outputs": [],
   "source": [
    "ts_albums = sp.artist_albums(\"06HL4z0CvFAxyc27GXpf02\",limit=50)"
   ]
  },
  {
   "cell_type": "code",
   "execution_count": 76,
   "metadata": {},
   "outputs": [],
   "source": [
    "ts_a = []\n",
    "for idx, item in enumerate(ts_albums['items']):\n",
    "    ts_a.append(item['name'])"
   ]
  },
  {
   "cell_type": "code",
   "execution_count": 77,
   "metadata": {},
   "outputs": [
    {
     "name": "stdout",
     "output_type": "stream",
     "text": [
      "{'Carolina (From The Motion Picture “Where The Crawdads Sing”)', 'Speak Now', 'evermore', '1989', 'Taylor Swift Karaoke: 1989', 'Taylor Swift Karaoke: Speak Now', '1989 (Deluxe Edition)', 'Red (Big Machine Radio Release Special)', 'Midnights (3am Edition)', 'Lover', 'Taylor Swift (Big Machine Radio Release Special)', 'Fearless (Big Machine Radio Release Special)', 'Speak Now (Big Machine Radio Release Special)', 'Speak Now (Deluxe Edition)', 'reputation Stadium Tour Surprise Song Playlist', 'Taylor Swift Karaoke: reputation', 'Taylor Swift Karaoke', 'reputation', 'evermore (deluxe version)', \"Red (Taylor's Version)\", 'Fearless Karaoke', 'folklore', 'Fearless Platinum Edition', 'Live From Clear Channel Stripped 2008', '1989 (Big Machine Radio Release Special)', \"Fearless (Taylor's Version)\", 'Anti-Hero (Remixes)', 'reputation (Big Machine Radio Release Special)', 'Speak Now World Tour Live', 'Taylor Swift Karaoke: Red', 'Red (Deluxe Edition)', 'Taylor Swift', 'folklore (deluxe version)', 'Fearless', 'Anti-Hero (ILLENIUM Remix)', 'Anti-Hero (feat. Bleachers)', 'Midnights', 'folklore: the long pond studio sessions (from the Disney+ special) [deluxe edition]', 'Red', 'All Too Well (10 Minute Version) (The Short Film)'}\n"
     ]
    }
   ],
   "source": [
    "ts_set = set(ts_a)\n",
    "print(ts_set)"
   ]
  },
  {
   "cell_type": "code",
   "execution_count": 78,
   "metadata": {},
   "outputs": [
    {
     "data": {
      "text/plain": [
       "{'1989',\n",
       " '1989 (Big Machine Radio Release Special)',\n",
       " '1989 (Deluxe Edition)',\n",
       " 'All Too Well (10 Minute Version) (The Short Film)',\n",
       " 'Anti-Hero (ILLENIUM Remix)',\n",
       " 'Anti-Hero (Remixes)',\n",
       " 'Anti-Hero (feat. Bleachers)',\n",
       " 'Carolina (From The Motion Picture “Where The Crawdads Sing”)',\n",
       " 'Fearless',\n",
       " 'Fearless (Big Machine Radio Release Special)',\n",
       " \"Fearless (Taylor's Version)\",\n",
       " 'Fearless Karaoke',\n",
       " 'Fearless Platinum Edition',\n",
       " 'Live From Clear Channel Stripped 2008',\n",
       " 'Lover',\n",
       " 'Midnights',\n",
       " 'Midnights (3am Edition)',\n",
       " 'Red',\n",
       " 'Red (Big Machine Radio Release Special)',\n",
       " 'Red (Deluxe Edition)',\n",
       " \"Red (Taylor's Version)\",\n",
       " 'Speak Now',\n",
       " 'Speak Now (Big Machine Radio Release Special)',\n",
       " 'Speak Now (Deluxe Edition)',\n",
       " 'Speak Now World Tour Live',\n",
       " 'Taylor Swift',\n",
       " 'Taylor Swift (Big Machine Radio Release Special)',\n",
       " 'Taylor Swift Karaoke',\n",
       " 'Taylor Swift Karaoke: 1989',\n",
       " 'Taylor Swift Karaoke: Red',\n",
       " 'Taylor Swift Karaoke: Speak Now',\n",
       " 'Taylor Swift Karaoke: reputation',\n",
       " 'evermore',\n",
       " 'evermore (deluxe version)',\n",
       " 'folklore',\n",
       " 'folklore (deluxe version)',\n",
       " 'folklore: the long pond studio sessions (from the Disney+ special) [deluxe edition]',\n",
       " 'reputation',\n",
       " 'reputation (Big Machine Radio Release Special)',\n",
       " 'reputation Stadium Tour Surprise Song Playlist'}"
      ]
     },
     "execution_count": 78,
     "metadata": {},
     "output_type": "execute_result"
    }
   ],
   "source": [
    "ts_set"
   ]
  },
  {
   "cell_type": "code",
   "execution_count": 79,
   "metadata": {},
   "outputs": [],
   "source": [
    "# read user data "
   ]
  },
  {
   "cell_type": "code",
   "execution_count": 5,
   "metadata": {},
   "outputs": [
    {
     "name": "stderr",
     "output_type": "stream",
     "text": [
      "HTTP Error for GET to https://api.spotify.com/v1/me/top/tracks with Params: {'time_range': 'medium_term', 'limit': 20, 'offset': 0} returned 403 due to None\n"
     ]
    },
    {
     "ename": "SpotifyException",
     "evalue": "http status: 403, code:-1 - https://api.spotify.com/v1/me/top/tracks?time_range=medium_term&limit=20&offset=0:\n None, reason: None",
     "output_type": "error",
     "traceback": [
      "\u001b[0;31m---------------------------------------------------------------------------\u001b[0m",
      "\u001b[0;31mHTTPError\u001b[0m                                 Traceback (most recent call last)",
      "\u001b[0;32m~/opt/anaconda3/envs/PythonData/lib/python3.7/site-packages/spotipy/client.py\u001b[0m in \u001b[0;36m_internal_call\u001b[0;34m(self, method, url, payload, params)\u001b[0m\n\u001b[1;32m    244\u001b[0m \u001b[0;34m\u001b[0m\u001b[0m\n\u001b[0;32m--> 245\u001b[0;31m             \u001b[0mresponse\u001b[0m\u001b[0;34m.\u001b[0m\u001b[0mraise_for_status\u001b[0m\u001b[0;34m(\u001b[0m\u001b[0;34m)\u001b[0m\u001b[0;34m\u001b[0m\u001b[0;34m\u001b[0m\u001b[0m\n\u001b[0m\u001b[1;32m    246\u001b[0m             \u001b[0mresults\u001b[0m \u001b[0;34m=\u001b[0m \u001b[0mresponse\u001b[0m\u001b[0;34m.\u001b[0m\u001b[0mjson\u001b[0m\u001b[0;34m(\u001b[0m\u001b[0;34m)\u001b[0m\u001b[0;34m\u001b[0m\u001b[0;34m\u001b[0m\u001b[0m\n",
      "\u001b[0;32m~/opt/anaconda3/envs/PythonData/lib/python3.7/site-packages/requests/models.py\u001b[0m in \u001b[0;36mraise_for_status\u001b[0;34m(self)\u001b[0m\n\u001b[1;32m   1020\u001b[0m         \u001b[0;32mif\u001b[0m \u001b[0mhttp_error_msg\u001b[0m\u001b[0;34m:\u001b[0m\u001b[0;34m\u001b[0m\u001b[0;34m\u001b[0m\u001b[0m\n\u001b[0;32m-> 1021\u001b[0;31m             \u001b[0;32mraise\u001b[0m \u001b[0mHTTPError\u001b[0m\u001b[0;34m(\u001b[0m\u001b[0mhttp_error_msg\u001b[0m\u001b[0;34m,\u001b[0m \u001b[0mresponse\u001b[0m\u001b[0;34m=\u001b[0m\u001b[0mself\u001b[0m\u001b[0;34m)\u001b[0m\u001b[0;34m\u001b[0m\u001b[0;34m\u001b[0m\u001b[0m\n\u001b[0m\u001b[1;32m   1022\u001b[0m \u001b[0;34m\u001b[0m\u001b[0m\n",
      "\u001b[0;31mHTTPError\u001b[0m: 403 Client Error: Forbidden for url: https://api.spotify.com/v1/me/top/tracks?time_range=medium_term&limit=20&offset=0",
      "\nDuring handling of the above exception, another exception occurred:\n",
      "\u001b[0;31mSpotifyException\u001b[0m                          Traceback (most recent call last)",
      "\u001b[0;32m<ipython-input-5-3d495763b5dd>\u001b[0m in \u001b[0;36m<module>\u001b[0;34m\u001b[0m\n\u001b[0;32m----> 1\u001b[0;31m \u001b[0mmy_recently_played\u001b[0m \u001b[0;34m=\u001b[0m \u001b[0msp\u001b[0m\u001b[0;34m.\u001b[0m\u001b[0mcurrent_user_top_tracks\u001b[0m\u001b[0;34m(\u001b[0m\u001b[0;34m)\u001b[0m\u001b[0;34m\u001b[0m\u001b[0;34m\u001b[0m\u001b[0m\n\u001b[0m",
      "\u001b[0;32m~/opt/anaconda3/envs/PythonData/lib/python3.7/site-packages/spotipy/client.py\u001b[0m in \u001b[0;36mcurrent_user_top_tracks\u001b[0;34m(self, limit, offset, time_range)\u001b[0m\n\u001b[1;32m   1436\u001b[0m         \"\"\"\n\u001b[1;32m   1437\u001b[0m         return self._get(\n\u001b[0;32m-> 1438\u001b[0;31m             \u001b[0;34m\"me/top/tracks\"\u001b[0m\u001b[0;34m,\u001b[0m \u001b[0mtime_range\u001b[0m\u001b[0;34m=\u001b[0m\u001b[0mtime_range\u001b[0m\u001b[0;34m,\u001b[0m \u001b[0mlimit\u001b[0m\u001b[0;34m=\u001b[0m\u001b[0mlimit\u001b[0m\u001b[0;34m,\u001b[0m \u001b[0moffset\u001b[0m\u001b[0;34m=\u001b[0m\u001b[0moffset\u001b[0m\u001b[0;34m\u001b[0m\u001b[0;34m\u001b[0m\u001b[0m\n\u001b[0m\u001b[1;32m   1439\u001b[0m         )\n\u001b[1;32m   1440\u001b[0m \u001b[0;34m\u001b[0m\u001b[0m\n",
      "\u001b[0;32m~/opt/anaconda3/envs/PythonData/lib/python3.7/site-packages/spotipy/client.py\u001b[0m in \u001b[0;36m_get\u001b[0;34m(self, url, args, payload, **kwargs)\u001b[0m\n\u001b[1;32m    295\u001b[0m             \u001b[0mkwargs\u001b[0m\u001b[0;34m.\u001b[0m\u001b[0mupdate\u001b[0m\u001b[0;34m(\u001b[0m\u001b[0margs\u001b[0m\u001b[0;34m)\u001b[0m\u001b[0;34m\u001b[0m\u001b[0;34m\u001b[0m\u001b[0m\n\u001b[1;32m    296\u001b[0m \u001b[0;34m\u001b[0m\u001b[0m\n\u001b[0;32m--> 297\u001b[0;31m         \u001b[0;32mreturn\u001b[0m \u001b[0mself\u001b[0m\u001b[0;34m.\u001b[0m\u001b[0m_internal_call\u001b[0m\u001b[0;34m(\u001b[0m\u001b[0;34m\"GET\"\u001b[0m\u001b[0;34m,\u001b[0m \u001b[0murl\u001b[0m\u001b[0;34m,\u001b[0m \u001b[0mpayload\u001b[0m\u001b[0;34m,\u001b[0m \u001b[0mkwargs\u001b[0m\u001b[0;34m)\u001b[0m\u001b[0;34m\u001b[0m\u001b[0;34m\u001b[0m\u001b[0m\n\u001b[0m\u001b[1;32m    298\u001b[0m \u001b[0;34m\u001b[0m\u001b[0m\n\u001b[1;32m    299\u001b[0m     \u001b[0;32mdef\u001b[0m \u001b[0m_post\u001b[0m\u001b[0;34m(\u001b[0m\u001b[0mself\u001b[0m\u001b[0;34m,\u001b[0m \u001b[0murl\u001b[0m\u001b[0;34m,\u001b[0m \u001b[0margs\u001b[0m\u001b[0;34m=\u001b[0m\u001b[0;32mNone\u001b[0m\u001b[0;34m,\u001b[0m \u001b[0mpayload\u001b[0m\u001b[0;34m=\u001b[0m\u001b[0;32mNone\u001b[0m\u001b[0;34m,\u001b[0m \u001b[0;34m**\u001b[0m\u001b[0mkwargs\u001b[0m\u001b[0;34m)\u001b[0m\u001b[0;34m:\u001b[0m\u001b[0;34m\u001b[0m\u001b[0;34m\u001b[0m\u001b[0m\n",
      "\u001b[0;32m~/opt/anaconda3/envs/PythonData/lib/python3.7/site-packages/spotipy/client.py\u001b[0m in \u001b[0;36m_internal_call\u001b[0;34m(self, method, url, payload, params)\u001b[0m\n\u001b[1;32m    270\u001b[0m                 \u001b[0;34m\"%s:\\n %s\"\u001b[0m \u001b[0;34m%\u001b[0m \u001b[0;34m(\u001b[0m\u001b[0mresponse\u001b[0m\u001b[0;34m.\u001b[0m\u001b[0murl\u001b[0m\u001b[0;34m,\u001b[0m \u001b[0mmsg\u001b[0m\u001b[0;34m)\u001b[0m\u001b[0;34m,\u001b[0m\u001b[0;34m\u001b[0m\u001b[0;34m\u001b[0m\u001b[0m\n\u001b[1;32m    271\u001b[0m                 \u001b[0mreason\u001b[0m\u001b[0;34m=\u001b[0m\u001b[0mreason\u001b[0m\u001b[0;34m,\u001b[0m\u001b[0;34m\u001b[0m\u001b[0;34m\u001b[0m\u001b[0m\n\u001b[0;32m--> 272\u001b[0;31m                 \u001b[0mheaders\u001b[0m\u001b[0;34m=\u001b[0m\u001b[0mresponse\u001b[0m\u001b[0;34m.\u001b[0m\u001b[0mheaders\u001b[0m\u001b[0;34m,\u001b[0m\u001b[0;34m\u001b[0m\u001b[0;34m\u001b[0m\u001b[0m\n\u001b[0m\u001b[1;32m    273\u001b[0m             )\n\u001b[1;32m    274\u001b[0m         \u001b[0;32mexcept\u001b[0m \u001b[0mrequests\u001b[0m\u001b[0;34m.\u001b[0m\u001b[0mexceptions\u001b[0m\u001b[0;34m.\u001b[0m\u001b[0mRetryError\u001b[0m \u001b[0;32mas\u001b[0m \u001b[0mretry_error\u001b[0m\u001b[0;34m:\u001b[0m\u001b[0;34m\u001b[0m\u001b[0;34m\u001b[0m\u001b[0m\n",
      "\u001b[0;31mSpotifyException\u001b[0m: http status: 403, code:-1 - https://api.spotify.com/v1/me/top/tracks?time_range=medium_term&limit=20&offset=0:\n None, reason: None"
     ]
    }
   ],
   "source": [
    "my_recently_played = sp.current_user_top_tracks()"
   ]
  },
  {
   "cell_type": "code",
   "execution_count": null,
   "metadata": {},
   "outputs": [],
   "source": [
    "top_played = sp.current_user_recently_played()"
   ]
  },
  {
   "cell_type": "code",
   "execution_count": 133,
   "metadata": {
    "scrolled": false
   },
   "outputs": [],
   "source": [
    "ts = []\n",
    "for idx, item in enumerate(my_recently_played['items']):\n",
    "    if (item['track']['artists'][0][\"name\"]) == \"Taylor Swift\":\n",
    "        ts.append(item['track']['album']['name'])"
   ]
  },
  {
   "cell_type": "code",
   "execution_count": 135,
   "metadata": {},
   "outputs": [],
   "source": [
    "ts_dict = {i:ts.count(i) for i in ts}"
   ]
  },
  {
   "cell_type": "code",
   "execution_count": 136,
   "metadata": {},
   "outputs": [
    {
     "data": {
      "text/plain": [
       "{'Midnights (3am Edition)': 11,\n",
       " \"Wildest Dreams (Taylor's Version)\": 1,\n",
       " 'Speak Now': 2,\n",
       " \"Fearless (Taylor's Version)\": 3,\n",
       " \"Red (Taylor's Version)\": 4,\n",
       " 'evermore': 1,\n",
       " 'Anti-Hero (ILLENIUM Remix)': 1,\n",
       " '1989': 2,\n",
       " '1989 (Deluxe Edition)': 2,\n",
       " 'Speak Now (Deluxe Edition)': 2,\n",
       " 'Taylor Swift': 1,\n",
       " 'Midnights': 1}"
      ]
     },
     "execution_count": 136,
     "metadata": {},
     "output_type": "execute_result"
    }
   ],
   "source": [
    "ts_dict"
   ]
  },
  {
   "cell_type": "code",
   "execution_count": 141,
   "metadata": {},
   "outputs": [
    {
     "data": {
      "text/plain": [
       "'Midnights (3am Edition)'"
      ]
     },
     "execution_count": 141,
     "metadata": {},
     "output_type": "execute_result"
    }
   ],
   "source": [
    "first_value = list(ts_dict.keys())[0]\n",
    "first_value"
   ]
  },
  {
   "cell_type": "code",
   "execution_count": null,
   "metadata": {},
   "outputs": [],
   "source": [
    "#if first value \n",
    "#'1989' or '1989 (Big Machine Radio Release Special)' or '1989 (Deluxe Edition)',or 'Taylor Swift Karaoke: 1989' or \"Wildest Dreams (Taylor's Version)\"\n",
    "# 'All Too Well (10 Minute Version) (The Short Film)', or 'Red', or 'Red (Big Machine Radio Release Special)', or 'Red (Deluxe Edition)', or \"Red (Taylor's Version)\",'Taylor Swift Karaoke: Red'\n",
    "#'Anti-Hero (ILLENIUM Remix)' or 'Anti-Hero (Remixes)', or 'Anti-Hero (feat. Bleachers)',or 'Midnights', or 'Midnights (3am Edition)',\n",
    " 'Carolina (From The Motion Picture “Where The Crawdads Sing”)',\n",
    " #'Fearless', or 'Fearless (Big Machine Radio Release Special)', or \"Fearless (Taylor's Version)\", or 'Fearless Karaoke',or 'Fearless Platinum Edition',\n",
    " 'Live From Clear Channel Stripped 2008',\n",
    " # 'Lover',\n",
    " # 'Speak Now',or  'Speak Now (Big Machine Radio Release Special)', or 'Speak Now (Deluxe Edition)',or 'Speak Now World Tour Live','Taylor Swift Karaoke: Speak Now'\n",
    " # 'Taylor Swift', 'Taylor Swift (Big Machine Radio Release Special)', 'Taylor Swift Karaoke',\n",
    " #'Taylor Swift Karaoke: reputation','reputation', 'reputation (Big Machine Radio Release Special)' or 'reputation Stadium Tour Surprise Song Playlist'}\n",
    " #'evermore', or 'evermore (deluxe version)',\n",
    " #'folklore', or 'folklore (deluxe version)', or 'folklore: the long pond studio sessions (from the Disney+ special) [deluxe edition]',\n"
   ]
  },
  {
   "cell_type": "code",
   "execution_count": null,
   "metadata": {},
   "outputs": [],
   "source": [
    "#thoughts\n",
    "#analyze vibes of top tracks\n",
    "#analyze the vibes all all the taylor albums \n",
    "#set equal "
   ]
  }
 ],
 "metadata": {
  "kernelspec": {
   "display_name": "PythonData",
   "language": "python",
   "name": "pythondata"
  },
  "language_info": {
   "codemirror_mode": {
    "name": "ipython",
    "version": 3
   },
   "file_extension": ".py",
   "mimetype": "text/x-python",
   "name": "python",
   "nbconvert_exporter": "python",
   "pygments_lexer": "ipython3",
   "version": "3.7.13"
  }
 },
 "nbformat": 4,
 "nbformat_minor": 4
}
